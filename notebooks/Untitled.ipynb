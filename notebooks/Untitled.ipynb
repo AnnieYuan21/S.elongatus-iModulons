{
 "cells": [
  {
   "cell_type": "code",
   "execution_count": 11,
   "id": "db7ecf7e",
   "metadata": {},
   "outputs": [
    {
     "data": {
      "text/html": [
       "<strong>png:</strong> 2"
      ],
      "text/latex": [
       "\\textbf{png:} 2"
      ],
      "text/markdown": [
       "**png:** 2"
      ],
      "text/plain": [
       "png \n",
       "  2 "
      ]
     },
     "metadata": {},
     "output_type": "display_data"
    }
   ],
   "source": [
    "library('treemap')\n",
    "\n",
    "pdf(file=\"~/Documents/elongatus_treemap.pdf\", #file where it will be saved\n",
    "    width=15, #svg params, change as you need\n",
    "    height=10, \n",
    "    pointsize=12)\n",
    "tree_df = read.csv('~/Documents/elongatus_table_conference.csv', row.names='X') #load data\n",
    "treemap(tree_df, index=c('category', 'imod'), vSize='explained_variance',title=\"Treemap\",\n",
    "        border.col=c(\"beige\",\"black\"),\n",
    "        title.legend='Categories',position.legend = 'right',\n",
    "        palette=\"Paired\",range=c(-12,12)) #make treemap\n",
    "\n",
    "dev.off()"
   ]
  }
 ],
 "metadata": {
  "kernelspec": {
   "display_name": "R",
   "language": "R",
   "name": "ir"
  },
  "language_info": {
   "codemirror_mode": "r",
   "file_extension": ".r",
   "mimetype": "text/x-r-source",
   "name": "R",
   "pygments_lexer": "r",
   "version": "4.2.2"
  },
  "toc": {
   "base_numbering": 1,
   "nav_menu": {},
   "number_sections": true,
   "sideBar": true,
   "skip_h1_title": false,
   "title_cell": "Table of Contents",
   "title_sidebar": "Contents",
   "toc_cell": false,
   "toc_position": {},
   "toc_section_display": true,
   "toc_window_display": false
  }
 },
 "nbformat": 4,
 "nbformat_minor": 5
}
